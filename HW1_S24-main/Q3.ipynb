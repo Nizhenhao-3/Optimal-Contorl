{
 "cells": [
  {
   "cell_type": "code",
   "execution_count": 62,
   "id": "d5ac3f7e",
   "metadata": {},
   "outputs": [
    {
     "name": "stderr",
     "output_type": "stream",
     "text": [
      "\u001b[32m\u001b[1m  Activating\u001b[22m\u001b[39m environment at `~/桌面/optimal-control-homework/HW1_S24-main/Project.toml`\n"
     ]
    }
   ],
   "source": [
    "import Pkg\n",
    "Pkg.activate(@__DIR__)\n",
    "Pkg.instantiate()\n",
    "using LinearAlgebra, Plots\n",
    "import ForwardDiff as FD\n",
    "using Printf\n",
    "using JLD2"
   ]
  },
  {
   "cell_type": "markdown",
   "id": "7142245b",
   "metadata": {},
   "source": [
    "# Q2 (30 pts): Augmented Lagrangian Quadratic Program Solver\n",
    "\n",
    "## Part (A): QP Solver (10 pts)\n",
    "Here we are going to use the augmented lagrangian method described [here in a video](https://www.youtube.com/watch?v=0x0JD5uO_ZQ), with [the corresponding pdf here](https://github.com/Optimal-Control-16-745/lecture-notebooks-2022/blob/main/misc/AL_tutorial.pdf) to solve the following problem:\n",
    "\n",
    "$$\\begin{align}\n",
    "\\min_x \\quad & \\frac{1}{2}x^TQx + q^Tx \\\\ \n",
    "\\mbox{s.t.}\\quad &  Ax -b = 0 \\\\ \n",
    "&  Gx - h \\leq 0 \n",
    "\\end{align}$$\n",
    "where the cost function is described by $Q \\in \\mathbb{R}^{n \\times n}$, $q \\in \\mathbb{R}^n$, an equality constraint is described by $A \\in \\mathbb{R}^{m \\times n}$ and $b \\in \\mathbb{R}^m$, and an inequality constraint is described by $G \\in \\mathbb{R}^{p \\times n}$ and $h \\in \\mathbb{R}^p$.\n",
    "\n",
    "\n",
    "By introducing a dual variable $\\lambda \\in \\mathbb{R}^m$ for the equality constraint, and $\\mu \\in \\mathbb{R}^p$ for the inequality constraint, we have the following KKT conditions for optimality:\n",
    "\n",
    "$$\\begin{align}\n",
    "Qx + q + A^T\\lambda + G^T \\mu &= 0 \\quad \\quad \\text{stationarity}\\\\ \n",
    "Ax-b&= 0 \\quad \\quad \\text{primal feasibility} \\\\ \n",
    "Gx-h&\\leq 0 \\quad \\quad \\text{primal feasibility} \\\\ \n",
    "\\mu &\\geq 0 \\quad \\quad \\text{dual feasibility} \\\\ \n",
    "\\mu \\circ (Gx - h) &= 0 \\quad \\quad \\text{complementarity}\n",
    "  \\end{align}$$\n",
    "  where $\\circ$ is element-wise multiplication.  "
   ]
  },
  {
   "cell_type": "code",
   "execution_count": 63,
   "id": "e9a03604",
   "metadata": {},
   "outputs": [
    {
     "name": "stdout",
     "output_type": "stream",
     "text": [
      "iter   |∇Lₓ|      |∇ALₓ|     max(h)     |c|        compl     ρ\n",
      "----------------------------------------------------------------\n",
      "  1   5.57e-15   6.20e-15   5.51e-01   1.27e+00   4.59e-01  1e+01\n",
      "  2   6.16e+00   4.06e-14   2.56e-02   3.07e-01   1.05e-02  1e+02\n",
      "  3   5.52e-01   1.48e-13   6.84e-03   1.35e-02   7.94e-03  1e+03\n",
      "  4   4.06e-12   4.06e-12   3.64e-05   1.62e-04   1.06e-04  1e+04\n",
      "  5   2.15e-11   2.15e-11  -5.61e-09   2.05e-08   1.14e-08  1e+05\n",
      "  6   4.22e-10   4.22e-10  -1.58e-13   3.92e-13   1.89e-13  1e+06\n"
     ]
    },
    {
     "data": {
      "text/plain": [
       "([-0.3262308057134029, 0.24943797997188877, -0.4322676644050713, -1.4172246971241345, -1.3994527400876546, 0.6099582408523683, -0.07312202122159459, 1.3031477521999637, 0.5389034791065495, -0.7225813651685942], [-0.12835195124671872, -2.8376241673520726, -0.8320804499706393], [0.03635294259840549, 0.0, 0.0, 1.059444495112555, 0.0])"
      ]
     },
     "execution_count": 63,
     "metadata": {},
     "output_type": "execute_result"
    }
   ],
   "source": [
    "# TODO: read below\n",
    "# NOTE: DO NOT USE A WHILE LOOP ANYWHERE\n",
    "\"\"\"\n",
    "The data for the QP is stored in `qp` the following way:\n",
    "    @load joinpath(@__DIR__, \"qp_data.jld2\") qp \n",
    "\n",
    "which is a NamedTuple, where\n",
    "    Q, q, A, b, G, h = qp.Q, qp.q, qp.A, qp.b, qp.G, qp.h\n",
    "\n",
    "contains all of the problem data you will need for the QP.\n",
    "\n",
    "Your job is to make the following function \n",
    "    \n",
    "    x, λ, μ = solve_qp(qp; verbose = true, max_iters = 100, tol = 1e-8)\n",
    "\n",
    "You can use (or not use) any of the additional functions:\n",
    "You can use (or not use) any of the additional functions:\n",
    "You can use (or not use) any of the additional functions:\n",
    "You can use (or not use) any of the additional functions:\n",
    "\n",
    "as long as solve_qp works. \n",
    "\"\"\"\n",
    "function cost(qp::NamedTuple, x::Vector)::Real\n",
    "    0.5*x'*qp.Q*x + dot(qp.q,x)\n",
    "end\n",
    "function c_eq(qp::NamedTuple, x::Vector)::Vector\n",
    "    qp.A*x - qp.b \n",
    "end\n",
    "function h_ineq(qp::NamedTuple, x::Vector)::Vector\n",
    "    qp.G*x - qp.h\n",
    "end\n",
    "\n",
    "function mask_matrix(qp::NamedTuple, x::Vector, μ::Vector, ρ::Real)::Matrix\n",
    "    \n",
    "    inequ=h_ineq(qp,x)\n",
    "    length=size(inequ)[1]\n",
    "    mask=zeros(length,length)\n",
    "    for i=1:length\n",
    "        \n",
    "        if inequ[i]<0 && μ[i]==0\n",
    "            mask[i,i]=0\n",
    "        else\n",
    "            \n",
    "            mask[i,i]=ρ\n",
    "        end\n",
    "        \n",
    "    end\n",
    "    \n",
    "    return mask\n",
    "    \n",
    "    \n",
    "end\n",
    "function augmented_lagrangian(qp::NamedTuple, x::Vector, λ::Vector, μ::Vector, ρ::Real)::Real\n",
    "    \n",
    "    L(x,λ,μ)=cost(qp,x)+λ'*c_eq(qp,x)+μ'*h_ineq(qp,x)\n",
    "    Iρ=mask_matrix(qp,x,μ,ρ)\n",
    "    return L(x,λ,μ)+0.5*ρ*norm(c_eq(qp,x))^2+0.5*h_ineq(qp,x)'*Iρ*h_ineq(qp,x)\n",
    "  \n",
    "end\n",
    "function logging(qp::NamedTuple, main_iter::Int, AL_gradient::Vector, x::Vector, λ::Vector, μ::Vector, ρ::Real)\n",
    "    # TODO: stationarity norm\n",
    "    stationarity_norm = norm(qp.Q*x+qp.q+(qp.A)'*λ+(qp.G)'*μ) # fill this in \n",
    "    @printf(\"%3d  % 7.2e  % 7.2e  % 7.2e  % 7.2e  % 7.2e  %5.0e\\n\",\n",
    "          main_iter, stationarity_norm, norm(AL_gradient), maximum(h_ineq(qp,x)),\n",
    "          norm(c_eq(qp,x),Inf), abs(dot(μ,h_ineq(qp,x))), ρ)\n",
    "end\n",
    "function solve_qp(qp; verbose = true, max_iters = 100, tol = 1e-8)\n",
    "    x = zeros(length(qp.q))\n",
    "    λ = zeros(length(qp.b))\n",
    "    μ = zeros(length(qp.h))\n",
    "    ρ=1.0\n",
    "    if verbose\n",
    "        @printf \"iter   |∇Lₓ|      |∇ALₓ|     max(h)     |c|        compl     ρ\\n\"\n",
    "        @printf \"----------------------------------------------------------------\\n\"\n",
    "    end\n",
    "    \n",
    "    # TODO:\n",
    "    for main_iter = 1:max_iters\n",
    "        \n",
    "        stationarity_norm = norm(qp.Q*x+qp.q+(qp.A)'*λ+(qp.G)'*μ)\n",
    "        \n",
    "        L(x)=augmented_lagrangian(qp,x,λ,μ, ρ)\n",
    "        al_grandient=FD.gradient(L,x)\n",
    "        for i=1:100\n",
    "            al_grandient=FD.gradient(L,x)\n",
    "            if norm(al_grandient)<1e-6\n",
    "                λ=λ+ρ*c_eq(qp,x)\n",
    "                μ=max.(0,μ+ρ*h_ineq(qp,x))\n",
    "                ρ=ρ*10.0\n",
    "                break\n",
    "            else\n",
    "                h=FD.hessian(L,x)\n",
    "                x=x-h\\al_grandient\n",
    "            end\n",
    "            \n",
    "        end\n",
    "        \n",
    "        if verbose\n",
    "            logging(qp, main_iter, al_grandient, x, λ, μ, ρ)\n",
    "        end\n",
    "        if stationarity_norm<tol && norm(c_eq(qp,x),Inf)<tol && abs(dot(μ,h_ineq(qp,x)))<tol\n",
    "                return x, λ, μ\n",
    "        end\n",
    "\n",
    "      \n",
    "        \n",
    "\n",
    "         \n",
    "        \n",
    "\n",
    "                \n",
    "        \n",
    "    end\n",
    "    error(\"qp solver did not converge\")\n",
    "end\n",
    "let \n",
    "    # example solving qp \n",
    "    @load joinpath(@__DIR__, \"qp_data.jld2\") qp \n",
    "    x, λ, μ = solve_qp(qp; verbose = true, tol = 1e-8)\n",
    "end"
   ]
  },
  {
   "cell_type": "markdown",
   "id": "8a78f0be",
   "metadata": {},
   "source": [
    "### QP Solver test"
   ]
  },
  {
   "cell_type": "code",
   "execution_count": 64,
   "id": "48825c31",
   "metadata": {},
   "outputs": [
    {
     "name": "stdout",
     "output_type": "stream",
     "text": [
      "iter   |∇Lₓ|      |∇ALₓ|     max(h)     |c|        compl     ρ\n",
      "----------------------------------------------------------------\n",
      "  1   5.57e-15   6.20e-15   5.51e-01   1.27e+00   4.59e-01  1e+01\n",
      "  2   6.16e+00   4.06e-14   2.56e-02   3.07e-01   1.05e-02  1e+02\n",
      "  3   5.52e-01   1.48e-13   6.84e-03   1.35e-02   7.94e-03  1e+03\n",
      "  4   4.06e-12   4.06e-12   3.64e-05   1.62e-04   1.06e-04  1e+04\n",
      "  5   2.15e-11   2.15e-11  -5.61e-09   2.05e-08   1.14e-08  1e+05\n",
      "\u001b[0m\u001b[1mTest Summary: | \u001b[22m\u001b[32m\u001b[1mPass  \u001b[22m\u001b[39m\u001b[36m\u001b[1mTotal\u001b[22m\u001b[39m\n",
      "qp solver     | \u001b[32m   3  \u001b[39m\u001b[36m    3\u001b[39m\n"
     ]
    },
    {
     "data": {
      "text/plain": [
       "Test.DefaultTestSet(\"qp solver\", Any[], 3, false, false)"
      ]
     },
     "execution_count": 64,
     "metadata": {},
     "output_type": "execute_result"
    }
   ],
   "source": [
    "# 10 points \n",
    "using Test \n",
    "@testset \"qp solver\" begin \n",
    "    @load joinpath(@__DIR__, \"qp_data.jld2\") qp \n",
    "    x, λ, μ = solve_qp(qp; verbose = true, max_iters = 100, tol = 1e-6)\n",
    "    \n",
    "    @load joinpath(@__DIR__, \"qp_solutions.jld2\") qp_solutions\n",
    "    @test norm(x - qp_solutions.x,Inf)<1e-3;\n",
    "    @test norm(λ - qp_solutions.λ,Inf)<1e-3;\n",
    "    @test norm(μ - qp_solutions.μ,Inf)<1e-3;\n",
    "end"
   ]
  },
  {
   "cell_type": "markdown",
   "id": "18d469b3",
   "metadata": {},
   "source": [
    "# Simulating a Falling Brick with QPs\n",
    "In this question we'll be simulating a brick falling and sliding on ice in 2D. You will show that this problem can be formulated as a QP, which you will solve using an Augmented Lagrangian method.\n",
    "\n",
    "## The Dynamics\n",
    "The dynamics of the brick can be written in continuous time as\n",
    "$$ M \\dot{v}  + M g = J^T \\mu \\\\ \\text{ where } M = mI_{2\\times 2}, \\; g = \\begin{bmatrix} 0 \\\\ 9.81 \\end{bmatrix},\\; J = \\begin{bmatrix} 0 & 1 \\end{bmatrix} $$\n",
    "and $\\mu \\in \\mathbb{R}$ is the normal force. The velocity $v \\in \\mathbb{R}^2$ and position $q \\in \\mathbb{R}^2$ are composed of the horizontal and vertical components.\n",
    "\n",
    "We can discretize the dynamics with backward Euler:\n",
    "$$ \\begin{bmatrix} v_{k+1} \\\\ q_{k+1} \\end{bmatrix} = \\begin{bmatrix} v_k \\\\ q_k \\end{bmatrix}\n",
    "+ \\Delta t \\cdot \\begin{bmatrix} \\frac{1}{m} J^T \\mu_{k+1} - g \\\\ v_{k+1} \\end{bmatrix}$$\n",
    "\n",
    "We also have the following contact constraints:\n",
    "$$ \\begin{align}\n",
    "J q_{k+1} &\\geq 0 &&\\text{(don't fall through the ice)} \\\\\n",
    "\\mu_{k+1} &\\geq 0 &&\\text{(normal forces only push, not pull)} \\\\\n",
    "\\mu_{k+1} J q_{k+1} &= 0 &&\\text{(no force at a distance)}\n",
    "\\end{align} $$"
   ]
  },
  {
   "cell_type": "markdown",
   "id": "82898d8b",
   "metadata": {},
   "source": [
    "## Part (B): QP formulation for Falling Brick (5 pts)\n",
    "Show that these discrete-time dynamics are equivalent to the following QP by writing down the KKT conditions.\n",
    "\n",
    "$$ \\begin{align}\n",
    "    &\\text{minimize}_{v_{k+1}} && \\frac{1}{2} v_{k+1}^T M v_{k+1} + [M (\\Delta t \\cdot g - v_k)]^Tv_{k+1} \\\\\n",
    "    &\\text{subject to} && -J(q_k + \\Delta t \\cdot v_{k+1}) \\leq 0 \\\\\n",
    "\\end{align} $$"
   ]
  },
  {
   "cell_type": "markdown",
   "id": "1bcacf03",
   "metadata": {},
   "source": [
    "**TASK**: Write down the KKT conditions for the optimization problem above, and show that it's equivalent to the dynamics problem stated previously. Use LaTeX markdown.\n",
    "\n",
    "**PUT ANSWER HERE:**"
   ]
  },
  {
   "cell_type": "markdown",
   "id": "d8348c7f",
   "metadata": {},
   "source": [
    "## Part (C): Brick Simulation (5 pts)"
   ]
  },
  {
   "cell_type": "code",
   "execution_count": 65,
   "id": "0852af00",
   "metadata": {},
   "outputs": [
    {
     "data": {
      "text/plain": [
       "brick_simulation_qp (generic function with 1 method)"
      ]
     },
     "execution_count": 65,
     "metadata": {},
     "output_type": "execute_result"
    }
   ],
   "source": [
    "function brick_simulation_qp(q, v; mass = 1.0, Δt = 0.01)\n",
    "    \n",
    "    # TODO: fill in the QP problem data for a simulation step \n",
    "    # fill in Q, q, G, h, but leave A, b the same \n",
    "    # this is because there are no equality constraints in this qp \n",
    "    \n",
    "    qp = (\n",
    "        Q = [mass 0; 0 mass], \n",
    "        q = [mass 0; 0 mass]*(Δt*[0; 9.81] - v),\n",
    "        A = zeros(0,2),\n",
    "        b = zeros(0),   \n",
    "        G = -[0 Δt],\n",
    "        h = [0 1] * q\n",
    "    )\n",
    "    \n",
    "    return qp \n",
    "end"
   ]
  },
  {
   "cell_type": "code",
   "execution_count": 66,
   "id": "5e8e5cbb",
   "metadata": {},
   "outputs": [
    {
     "name": "stdout",
     "output_type": "stream",
     "text": [
      "\u001b[0m\u001b[1mTest Summary: | \u001b[22m\u001b[32m\u001b[1mPass  \u001b[22m\u001b[39m\u001b[36m\u001b[1mTotal\u001b[22m\u001b[39m\n",
      "brick qp      | \u001b[32m  10  \u001b[39m\u001b[36m   10\u001b[39m\n"
     ]
    },
    {
     "data": {
      "text/plain": [
       "Test.DefaultTestSet(\"brick qp\", Any[], 10, false, false)"
      ]
     },
     "execution_count": 66,
     "metadata": {},
     "output_type": "execute_result"
    }
   ],
   "source": [
    "@testset \"brick qp\" begin \n",
    "    \n",
    "    q = [1,3.0]\n",
    "    v = [2,-3.0]\n",
    "    \n",
    "    qp = brick_simulation_qp(q,v)\n",
    "    \n",
    "    # check all the types to make sure they're right\n",
    "    qp.Q::Matrix{Float64}\n",
    "    qp.q::Vector{Float64}\n",
    "    qp.A::Matrix{Float64}\n",
    "    qp.b::Vector{Float64}\n",
    "    qp.G::Matrix{Float64}\n",
    "    qp.h::Vector{Float64}\n",
    "    \n",
    "    @test size(qp.Q) == (2,2)\n",
    "    @test size(qp.q) == (2,)\n",
    "    @test size(qp.A) == (0,2)\n",
    "    @test size(qp.b) == (0,)\n",
    "    @test size(qp.G) == (1,2)\n",
    "    @test size(qp.h) == (1,)\n",
    "    \n",
    "    @test abs(tr(qp.Q) - 2) < 1e-10\n",
    "    @test norm(qp.q - [-2.0, 3.0981]) < 1e-10 \n",
    "    @test norm(qp.G - [0 -.01]) < 1e-10 \n",
    "    @test abs(qp.h[1] -3) < 1e-10\n",
    "    \n",
    "end"
   ]
  },
  {
   "cell_type": "code",
   "execution_count": 67,
   "id": "42288ee1",
   "metadata": {},
   "outputs": [
    {
     "name": "stdout",
     "output_type": "stream",
     "text": [
      "#= In[67]:30 =# @test(abs(maximum(ys) - 2) < 0.1) = Test Passed\n",
      "#= In[67]:31 =# @test(minimum(ys) > -0.01) = Test Passed\n",
      "#= In[67]:32 =# @test(abs(xs[end] - 3) < 0.01) = Test Passed\n",
      "#= In[67]:35 =# @test(maximum(xdot) < 1.0001) = Test Passed\n",
      "#= In[67]:36 =# @test(minimum(xdot) > 0.9999) = Test Passed\n",
      "#= In[67]:37 =# @test(ys[110] > 0.01) = Test Passed\n",
      "#= In[67]:38 =# @test(abs(ys[111]) < 0.01) = Test Passed\n",
      "#= In[67]:39 =# @test(abs(ys[112]) < 0.01) = Test Passed\n"
     ]
    },
    {
     "data": {
      "image/svg+xml": [
       "<?xml version=\"1.0\" encoding=\"utf-8\"?>\n",
       "<svg xmlns=\"http://www.w3.org/2000/svg\" xmlns:xlink=\"http://www.w3.org/1999/xlink\" width=\"600\" height=\"400\" viewBox=\"0 0 2400 1600\">\n",
       "<defs>\n",
       "  <clipPath id=\"clip840\">\n",
       "    <rect x=\"0\" y=\"0\" width=\"2400\" height=\"1600\"/>\n",
       "  </clipPath>\n",
       "</defs>\n",
       "<path clip-path=\"url(#clip840)\" d=\"M0 1600 L2400 1600 L2400 0 L0 0  Z\" fill=\"#ffffff\" fill-rule=\"evenodd\" fill-opacity=\"1\"/>\n",
       "<defs>\n",
       "  <clipPath id=\"clip841\">\n",
       "    <rect x=\"480\" y=\"0\" width=\"1681\" height=\"1600\"/>\n",
       "  </clipPath>\n",
       "</defs>\n",
       "<path clip-path=\"url(#clip840)\" d=\"M219.38 1423.18 L2352.76 1423.18 L2352.76 47.2441 L219.38 47.2441  Z\" fill=\"#ffffff\" fill-rule=\"evenodd\" fill-opacity=\"1\"/>\n",
       "<defs>\n",
       "  <clipPath id=\"clip842\">\n",
       "    <rect x=\"219\" y=\"47\" width=\"2134\" height=\"1377\"/>\n",
       "  </clipPath>\n",
       "</defs>\n",
       "<polyline clip-path=\"url(#clip842)\" style=\"stroke:#000000; stroke-linecap:round; stroke-linejoin:round; stroke-width:2; stroke-opacity:0.1; fill:none\" points=\"279.759,1423.18 279.759,47.2441 \"/>\n",
       "<polyline clip-path=\"url(#clip842)\" style=\"stroke:#000000; stroke-linecap:round; stroke-linejoin:round; stroke-width:2; stroke-opacity:0.1; fill:none\" points=\"950.632,1423.18 950.632,47.2441 \"/>\n",
       "<polyline clip-path=\"url(#clip842)\" style=\"stroke:#000000; stroke-linecap:round; stroke-linejoin:round; stroke-width:2; stroke-opacity:0.1; fill:none\" points=\"1621.5,1423.18 1621.5,47.2441 \"/>\n",
       "<polyline clip-path=\"url(#clip842)\" style=\"stroke:#000000; stroke-linecap:round; stroke-linejoin:round; stroke-width:2; stroke-opacity:0.1; fill:none\" points=\"2292.38,1423.18 2292.38,47.2441 \"/>\n",
       "<polyline clip-path=\"url(#clip842)\" style=\"stroke:#000000; stroke-linecap:round; stroke-linejoin:round; stroke-width:2; stroke-opacity:0.1; fill:none\" points=\"219.38,1382.32 2352.76,1382.32 \"/>\n",
       "<polyline clip-path=\"url(#clip842)\" style=\"stroke:#000000; stroke-linecap:round; stroke-linejoin:round; stroke-width:2; stroke-opacity:0.1; fill:none\" points=\"219.38,1059.85 2352.76,1059.85 \"/>\n",
       "<polyline clip-path=\"url(#clip842)\" style=\"stroke:#000000; stroke-linecap:round; stroke-linejoin:round; stroke-width:2; stroke-opacity:0.1; fill:none\" points=\"219.38,737.37 2352.76,737.37 \"/>\n",
       "<polyline clip-path=\"url(#clip842)\" style=\"stroke:#000000; stroke-linecap:round; stroke-linejoin:round; stroke-width:2; stroke-opacity:0.1; fill:none\" points=\"219.38,414.895 2352.76,414.895 \"/>\n",
       "<polyline clip-path=\"url(#clip842)\" style=\"stroke:#000000; stroke-linecap:round; stroke-linejoin:round; stroke-width:2; stroke-opacity:0.1; fill:none\" points=\"219.38,92.4191 2352.76,92.4191 \"/>\n",
       "<polyline clip-path=\"url(#clip840)\" style=\"stroke:#000000; stroke-linecap:round; stroke-linejoin:round; stroke-width:4; stroke-opacity:1; fill:none\" points=\"219.38,1423.18 2352.76,1423.18 \"/>\n",
       "<polyline clip-path=\"url(#clip840)\" style=\"stroke:#000000; stroke-linecap:round; stroke-linejoin:round; stroke-width:4; stroke-opacity:1; fill:none\" points=\"279.759,1423.18 279.759,1404.28 \"/>\n",
       "<polyline clip-path=\"url(#clip840)\" style=\"stroke:#000000; stroke-linecap:round; stroke-linejoin:round; stroke-width:4; stroke-opacity:1; fill:none\" points=\"950.632,1423.18 950.632,1404.28 \"/>\n",
       "<polyline clip-path=\"url(#clip840)\" style=\"stroke:#000000; stroke-linecap:round; stroke-linejoin:round; stroke-width:4; stroke-opacity:1; fill:none\" points=\"1621.5,1423.18 1621.5,1404.28 \"/>\n",
       "<polyline clip-path=\"url(#clip840)\" style=\"stroke:#000000; stroke-linecap:round; stroke-linejoin:round; stroke-width:4; stroke-opacity:1; fill:none\" points=\"2292.38,1423.18 2292.38,1404.28 \"/>\n",
       "<path clip-path=\"url(#clip840)\" d=\"M279.759 1454.1 Q276.148 1454.1 274.319 1457.66 Q272.513 1461.2 272.513 1468.33 Q272.513 1475.44 274.319 1479.01 Q276.148 1482.55 279.759 1482.55 Q283.393 1482.55 285.199 1479.01 Q287.027 1475.44 287.027 1468.33 Q287.027 1461.2 285.199 1457.66 Q283.393 1454.1 279.759 1454.1 M279.759 1450.39 Q285.569 1450.39 288.624 1455 Q291.703 1459.58 291.703 1468.33 Q291.703 1477.06 288.624 1481.67 Q285.569 1486.25 279.759 1486.25 Q273.949 1486.25 270.87 1481.67 Q267.814 1477.06 267.814 1468.33 Q267.814 1459.58 270.87 1455 Q273.949 1450.39 279.759 1450.39 Z\" fill=\"#000000\" fill-rule=\"nonzero\" fill-opacity=\"1\" /><path clip-path=\"url(#clip840)\" d=\"M941.014 1481.64 L948.652 1481.64 L948.652 1455.28 L940.342 1456.95 L940.342 1452.69 L948.606 1451.02 L953.282 1451.02 L953.282 1481.64 L960.921 1481.64 L960.921 1485.58 L941.014 1485.58 L941.014 1481.64 Z\" fill=\"#000000\" fill-rule=\"nonzero\" fill-opacity=\"1\" /><path clip-path=\"url(#clip840)\" d=\"M1616.16 1481.64 L1632.48 1481.64 L1632.48 1485.58 L1610.53 1485.58 L1610.53 1481.64 Q1613.19 1478.89 1617.78 1474.26 Q1622.38 1469.61 1623.56 1468.27 Q1625.81 1465.74 1626.69 1464.01 Q1627.59 1462.25 1627.59 1460.56 Q1627.59 1457.8 1625.65 1456.07 Q1623.73 1454.33 1620.62 1454.33 Q1618.43 1454.33 1615.97 1455.09 Q1613.54 1455.86 1610.76 1457.41 L1610.76 1452.69 Q1613.59 1451.55 1616.04 1450.97 Q1618.5 1450.39 1620.53 1450.39 Q1625.9 1450.39 1629.1 1453.08 Q1632.29 1455.77 1632.29 1460.26 Q1632.29 1462.39 1631.48 1464.31 Q1630.69 1466.2 1628.59 1468.8 Q1628.01 1469.47 1624.91 1472.69 Q1621.81 1475.88 1616.16 1481.64 Z\" fill=\"#000000\" fill-rule=\"nonzero\" fill-opacity=\"1\" /><path clip-path=\"url(#clip840)\" d=\"M2296.63 1466.95 Q2299.98 1467.66 2301.86 1469.93 Q2303.75 1472.2 2303.75 1475.53 Q2303.75 1480.65 2300.24 1483.45 Q2296.72 1486.25 2290.24 1486.25 Q2288.06 1486.25 2285.75 1485.81 Q2283.45 1485.39 2281 1484.54 L2281 1480.02 Q2282.94 1481.16 2285.26 1481.74 Q2287.57 1482.32 2290.1 1482.32 Q2294.5 1482.32 2296.79 1480.58 Q2299.1 1478.84 2299.1 1475.53 Q2299.1 1472.48 2296.95 1470.77 Q2294.82 1469.03 2291 1469.03 L2286.97 1469.03 L2286.97 1465.19 L2291.19 1465.19 Q2294.63 1465.19 2296.46 1463.82 Q2298.29 1462.43 2298.29 1459.84 Q2298.29 1457.18 2296.39 1455.77 Q2294.52 1454.33 2291 1454.33 Q2289.08 1454.33 2286.88 1454.75 Q2284.68 1455.16 2282.04 1456.04 L2282.04 1451.88 Q2284.7 1451.14 2287.02 1450.77 Q2289.36 1450.39 2291.42 1450.39 Q2296.74 1450.39 2299.84 1452.83 Q2302.94 1455.23 2302.94 1459.35 Q2302.94 1462.22 2301.3 1464.21 Q2299.66 1466.18 2296.63 1466.95 Z\" fill=\"#000000\" fill-rule=\"nonzero\" fill-opacity=\"1\" /><path clip-path=\"url(#clip840)\" d=\"M1236.88 1532.4 L1223.99 1549.74 L1237.55 1568.04 L1230.64 1568.04 L1220.26 1554.04 L1209.89 1568.04 L1202.98 1568.04 L1216.83 1549.39 L1204.16 1532.4 L1211.06 1532.4 L1220.52 1545.1 L1229.97 1532.4 L1236.88 1532.4 Z\" fill=\"#000000\" fill-rule=\"nonzero\" fill-opacity=\"1\" /><path clip-path=\"url(#clip840)\" d=\"M1280.61 1518.58 Q1276.34 1525.9 1274.28 1533.06 Q1272.21 1540.23 1272.21 1547.58 Q1272.21 1554.93 1274.28 1562.16 Q1276.38 1569.35 1280.61 1576.64 L1275.52 1576.64 Q1270.74 1569.16 1268.36 1561.93 Q1266 1554.71 1266 1547.58 Q1266 1540.48 1268.36 1533.29 Q1270.71 1526.09 1275.52 1518.58 L1280.61 1518.58 Z\" fill=\"#000000\" fill-rule=\"nonzero\" fill-opacity=\"1\" /><path clip-path=\"url(#clip840)\" d=\"M1319.73 1539.24 Q1321.92 1535.29 1324.98 1533.41 Q1328.03 1531.54 1332.17 1531.54 Q1337.74 1531.54 1340.77 1535.45 Q1343.79 1539.33 1343.79 1546.53 L1343.79 1568.04 L1337.9 1568.04 L1337.9 1546.72 Q1337.9 1541.59 1336.09 1539.11 Q1334.27 1536.63 1330.55 1536.63 Q1326 1536.63 1323.36 1539.65 Q1320.71 1542.68 1320.71 1547.9 L1320.71 1568.04 L1314.83 1568.04 L1314.83 1546.72 Q1314.83 1541.56 1313.01 1539.11 Q1311.2 1536.63 1307.41 1536.63 Q1302.92 1536.63 1300.28 1539.68 Q1297.64 1542.71 1297.64 1547.9 L1297.64 1568.04 L1291.75 1568.04 L1291.75 1532.4 L1297.64 1532.4 L1297.64 1537.93 Q1299.64 1534.66 1302.44 1533.1 Q1305.24 1531.54 1309.1 1531.54 Q1312.98 1531.54 1315.68 1533.51 Q1318.42 1535.48 1319.73 1539.24 Z\" fill=\"#000000\" fill-rule=\"nonzero\" fill-opacity=\"1\" /><path clip-path=\"url(#clip840)\" d=\"M1354.55 1518.58 L1359.64 1518.58 Q1364.41 1526.09 1366.77 1533.29 Q1369.16 1540.48 1369.16 1547.58 Q1369.16 1554.71 1366.77 1561.93 Q1364.41 1569.16 1359.64 1576.64 L1354.55 1576.64 Q1358.78 1569.35 1360.85 1562.16 Q1362.95 1554.93 1362.95 1547.58 Q1362.95 1540.23 1360.85 1533.06 Q1358.78 1525.9 1354.55 1518.58 Z\" fill=\"#000000\" fill-rule=\"nonzero\" fill-opacity=\"1\" /><polyline clip-path=\"url(#clip840)\" style=\"stroke:#000000; stroke-linecap:round; stroke-linejoin:round; stroke-width:4; stroke-opacity:1; fill:none\" points=\"219.38,1423.18 219.38,47.2441 \"/>\n",
       "<polyline clip-path=\"url(#clip840)\" style=\"stroke:#000000; stroke-linecap:round; stroke-linejoin:round; stroke-width:4; stroke-opacity:1; fill:none\" points=\"219.38,1382.32 238.278,1382.32 \"/>\n",
       "<polyline clip-path=\"url(#clip840)\" style=\"stroke:#000000; stroke-linecap:round; stroke-linejoin:round; stroke-width:4; stroke-opacity:1; fill:none\" points=\"219.38,1059.85 238.278,1059.85 \"/>\n",
       "<polyline clip-path=\"url(#clip840)\" style=\"stroke:#000000; stroke-linecap:round; stroke-linejoin:round; stroke-width:4; stroke-opacity:1; fill:none\" points=\"219.38,737.37 238.278,737.37 \"/>\n",
       "<polyline clip-path=\"url(#clip840)\" style=\"stroke:#000000; stroke-linecap:round; stroke-linejoin:round; stroke-width:4; stroke-opacity:1; fill:none\" points=\"219.38,414.895 238.278,414.895 \"/>\n",
       "<polyline clip-path=\"url(#clip840)\" style=\"stroke:#000000; stroke-linecap:round; stroke-linejoin:round; stroke-width:4; stroke-opacity:1; fill:none\" points=\"219.38,92.4191 238.278,92.4191 \"/>\n",
       "<path clip-path=\"url(#clip840)\" d=\"M126.205 1368.12 Q122.593 1368.12 120.765 1371.68 Q118.959 1375.23 118.959 1382.36 Q118.959 1389.46 120.765 1393.03 Q122.593 1396.57 126.205 1396.57 Q129.839 1396.57 131.644 1393.03 Q133.473 1389.46 133.473 1382.36 Q133.473 1375.23 131.644 1371.68 Q129.839 1368.12 126.205 1368.12 M126.205 1364.42 Q132.015 1364.42 135.07 1369.02 Q138.149 1373.61 138.149 1382.36 Q138.149 1391.08 135.07 1395.69 Q132.015 1400.27 126.205 1400.27 Q120.394 1400.27 117.316 1395.69 Q114.26 1391.08 114.26 1382.36 Q114.26 1373.61 117.316 1369.02 Q120.394 1364.42 126.205 1364.42 Z\" fill=\"#000000\" fill-rule=\"nonzero\" fill-opacity=\"1\" /><path clip-path=\"url(#clip840)\" d=\"M146.366 1393.72 L151.251 1393.72 L151.251 1399.6 L146.366 1399.6 L146.366 1393.72 Z\" fill=\"#000000\" fill-rule=\"nonzero\" fill-opacity=\"1\" /><path clip-path=\"url(#clip840)\" d=\"M171.436 1368.12 Q167.825 1368.12 165.996 1371.68 Q164.19 1375.23 164.19 1382.36 Q164.19 1389.46 165.996 1393.03 Q167.825 1396.57 171.436 1396.57 Q175.07 1396.57 176.876 1393.03 Q178.704 1389.46 178.704 1382.36 Q178.704 1375.23 176.876 1371.68 Q175.07 1368.12 171.436 1368.12 M171.436 1364.42 Q177.246 1364.42 180.301 1369.02 Q183.38 1373.61 183.38 1382.36 Q183.38 1391.08 180.301 1395.69 Q177.246 1400.27 171.436 1400.27 Q165.626 1400.27 162.547 1395.69 Q159.491 1391.08 159.491 1382.36 Q159.491 1373.61 162.547 1369.02 Q165.626 1364.42 171.436 1364.42 Z\" fill=\"#000000\" fill-rule=\"nonzero\" fill-opacity=\"1\" /><path clip-path=\"url(#clip840)\" d=\"M127.2 1045.64 Q123.589 1045.64 121.76 1049.21 Q119.955 1052.75 119.955 1059.88 Q119.955 1066.99 121.76 1070.55 Q123.589 1074.09 127.2 1074.09 Q130.834 1074.09 132.64 1070.55 Q134.468 1066.99 134.468 1059.88 Q134.468 1052.75 132.64 1049.21 Q130.834 1045.64 127.2 1045.64 M127.2 1041.94 Q133.01 1041.94 136.066 1046.55 Q139.144 1051.13 139.144 1059.88 Q139.144 1068.61 136.066 1073.21 Q133.01 1077.8 127.2 1077.8 Q121.39 1077.8 118.311 1073.21 Q115.256 1068.61 115.256 1059.88 Q115.256 1051.13 118.311 1046.55 Q121.39 1041.94 127.2 1041.94 Z\" fill=\"#000000\" fill-rule=\"nonzero\" fill-opacity=\"1\" /><path clip-path=\"url(#clip840)\" d=\"M147.362 1071.25 L152.246 1071.25 L152.246 1077.13 L147.362 1077.13 L147.362 1071.25 Z\" fill=\"#000000\" fill-rule=\"nonzero\" fill-opacity=\"1\" /><path clip-path=\"url(#clip840)\" d=\"M162.477 1042.57 L180.834 1042.57 L180.834 1046.5 L166.76 1046.5 L166.76 1054.97 Q167.778 1054.63 168.797 1054.46 Q169.815 1054.28 170.834 1054.28 Q176.621 1054.28 180.001 1057.45 Q183.38 1060.62 183.38 1066.04 Q183.38 1071.62 179.908 1074.72 Q176.436 1077.8 170.116 1077.8 Q167.94 1077.8 165.672 1077.43 Q163.427 1077.06 161.019 1076.32 L161.019 1071.62 Q163.102 1072.75 165.325 1073.31 Q167.547 1073.86 170.024 1073.86 Q174.028 1073.86 176.366 1071.76 Q178.704 1069.65 178.704 1066.04 Q178.704 1062.43 176.366 1060.32 Q174.028 1058.21 170.024 1058.21 Q168.149 1058.21 166.274 1058.63 Q164.422 1059.05 162.477 1059.93 L162.477 1042.57 Z\" fill=\"#000000\" fill-rule=\"nonzero\" fill-opacity=\"1\" /><path clip-path=\"url(#clip840)\" d=\"M117.015 750.715 L124.654 750.715 L124.654 724.35 L116.343 726.016 L116.343 721.757 L124.607 720.09 L129.283 720.09 L129.283 750.715 L136.922 750.715 L136.922 754.65 L117.015 754.65 L117.015 750.715 Z\" fill=\"#000000\" fill-rule=\"nonzero\" fill-opacity=\"1\" /><path clip-path=\"url(#clip840)\" d=\"M146.366 748.771 L151.251 748.771 L151.251 754.65 L146.366 754.65 L146.366 748.771 Z\" fill=\"#000000\" fill-rule=\"nonzero\" fill-opacity=\"1\" /><path clip-path=\"url(#clip840)\" d=\"M171.436 723.169 Q167.825 723.169 165.996 726.734 Q164.19 730.275 164.19 737.405 Q164.19 744.511 165.996 748.076 Q167.825 751.618 171.436 751.618 Q175.07 751.618 176.876 748.076 Q178.704 744.511 178.704 737.405 Q178.704 730.275 176.876 726.734 Q175.07 723.169 171.436 723.169 M171.436 719.465 Q177.246 719.465 180.301 724.072 Q183.38 728.655 183.38 737.405 Q183.38 746.132 180.301 750.738 Q177.246 755.322 171.436 755.322 Q165.626 755.322 162.547 750.738 Q159.491 746.132 159.491 737.405 Q159.491 728.655 162.547 724.072 Q165.626 719.465 171.436 719.465 Z\" fill=\"#000000\" fill-rule=\"nonzero\" fill-opacity=\"1\" /><path clip-path=\"url(#clip840)\" d=\"M118.01 428.24 L125.649 428.24 L125.649 401.874 L117.339 403.541 L117.339 399.281 L125.603 397.615 L130.279 397.615 L130.279 428.24 L137.917 428.24 L137.917 432.175 L118.01 432.175 L118.01 428.24 Z\" fill=\"#000000\" fill-rule=\"nonzero\" fill-opacity=\"1\" /><path clip-path=\"url(#clip840)\" d=\"M147.362 426.295 L152.246 426.295 L152.246 432.175 L147.362 432.175 L147.362 426.295 Z\" fill=\"#000000\" fill-rule=\"nonzero\" fill-opacity=\"1\" /><path clip-path=\"url(#clip840)\" d=\"M162.477 397.615 L180.834 397.615 L180.834 401.55 L166.76 401.55 L166.76 410.022 Q167.778 409.675 168.797 409.513 Q169.815 409.328 170.834 409.328 Q176.621 409.328 180.001 412.499 Q183.38 415.67 183.38 421.087 Q183.38 426.665 179.908 429.767 Q176.436 432.846 170.116 432.846 Q167.94 432.846 165.672 432.476 Q163.427 432.105 161.019 431.365 L161.019 426.665 Q163.102 427.8 165.325 428.355 Q167.547 428.911 170.024 428.911 Q174.028 428.911 176.366 426.804 Q178.704 424.698 178.704 421.087 Q178.704 417.476 176.366 415.369 Q174.028 413.263 170.024 413.263 Q168.149 413.263 166.274 413.679 Q164.422 414.096 162.477 414.976 L162.477 397.615 Z\" fill=\"#000000\" fill-rule=\"nonzero\" fill-opacity=\"1\" /><path clip-path=\"url(#clip840)\" d=\"M120.232 105.764 L136.552 105.764 L136.552 109.699 L114.607 109.699 L114.607 105.764 Q117.269 103.009 121.853 98.3797 Q126.459 93.727 127.64 92.3844 Q129.885 89.8613 130.765 88.1252 Q131.667 86.3659 131.667 84.6761 Q131.667 81.9215 129.723 80.1854 Q127.802 78.4493 124.7 78.4493 Q122.501 78.4493 120.047 79.2132 Q117.617 79.9771 114.839 81.528 L114.839 76.8058 Q117.663 75.6715 120.117 75.0928 Q122.57 74.5141 124.607 74.5141 Q129.978 74.5141 133.172 77.1993 Q136.367 79.8845 136.367 84.3752 Q136.367 86.5048 135.556 88.4261 Q134.769 90.3242 132.663 92.9168 Q132.084 93.5881 128.982 96.8057 Q125.88 100 120.232 105.764 Z\" fill=\"#000000\" fill-rule=\"nonzero\" fill-opacity=\"1\" /><path clip-path=\"url(#clip840)\" d=\"M146.366 103.82 L151.251 103.82 L151.251 109.699 L146.366 109.699 L146.366 103.82 Z\" fill=\"#000000\" fill-rule=\"nonzero\" fill-opacity=\"1\" /><path clip-path=\"url(#clip840)\" d=\"M171.436 78.2178 Q167.825 78.2178 165.996 81.7826 Q164.19 85.3243 164.19 92.4538 Q164.19 99.5603 165.996 103.125 Q167.825 106.667 171.436 106.667 Q175.07 106.667 176.876 103.125 Q178.704 99.5603 178.704 92.4538 Q178.704 85.3243 176.876 81.7826 Q175.07 78.2178 171.436 78.2178 M171.436 74.5141 Q177.246 74.5141 180.301 79.1206 Q183.38 83.7039 183.38 92.4538 Q183.38 101.181 180.301 105.787 Q177.246 110.37 171.436 110.37 Q165.626 110.37 162.547 105.787 Q159.491 101.181 159.491 92.4538 Q159.491 83.7039 162.547 79.1206 Q165.626 74.5141 171.436 74.5141 Z\" fill=\"#000000\" fill-rule=\"nonzero\" fill-opacity=\"1\" /><path clip-path=\"url(#clip840)\" d=\"M67.3143 799.235 Q73.68 801.718 75.6216 804.073 Q77.5631 806.428 77.5631 810.375 L77.5631 815.054 L72.6615 815.054 L72.6615 811.616 Q72.6615 809.197 71.5157 807.861 Q70.3699 806.524 66.1048 804.901 L63.4312 803.85 L28.3562 818.269 L28.3562 812.062 L56.238 800.922 L28.3562 789.782 L28.3562 783.575 L67.3143 799.235 Z\" fill=\"#000000\" fill-rule=\"nonzero\" fill-opacity=\"1\" /><path clip-path=\"url(#clip840)\" d=\"M14.5426 740.702 Q21.8632 744.967 29.0246 747.036 Q36.186 749.105 43.5384 749.105 Q50.8908 749.105 58.1159 747.036 Q65.3091 744.936 72.5979 740.702 L72.5979 745.795 Q65.1182 750.569 57.8931 752.956 Q50.668 755.312 43.5384 755.312 Q36.4406 755.312 29.2474 752.956 Q22.0542 750.601 14.5426 745.795 L14.5426 740.702 Z\" fill=\"#000000\" fill-rule=\"nonzero\" fill-opacity=\"1\" /><path clip-path=\"url(#clip840)\" d=\"M35.1993 701.585 Q31.2526 699.389 29.3747 696.333 Q27.4968 693.278 27.4968 689.14 Q27.4968 683.57 31.4117 680.546 Q35.2948 677.523 42.4881 677.523 L64.0042 677.523 L64.0042 683.411 L42.679 683.411 Q37.5546 683.411 35.072 685.225 Q32.5894 687.039 32.5894 690.763 Q32.5894 695.315 35.6131 697.957 Q38.6368 700.598 43.8567 700.598 L64.0042 700.598 L64.0042 706.487 L42.679 706.487 Q37.5228 706.487 35.072 708.301 Q32.5894 710.115 32.5894 713.903 Q32.5894 718.391 35.6449 721.032 Q38.6686 723.674 43.8567 723.674 L64.0042 723.674 L64.0042 729.562 L28.3562 729.562 L28.3562 723.674 L33.8944 723.674 Q30.616 721.669 29.0564 718.868 Q27.4968 716.067 27.4968 712.216 Q27.4968 708.333 29.4702 705.627 Q31.4436 702.89 35.1993 701.585 Z\" fill=\"#000000\" fill-rule=\"nonzero\" fill-opacity=\"1\" /><path clip-path=\"url(#clip840)\" d=\"M14.5426 666.765 L14.5426 661.672 Q22.0542 656.898 29.2474 654.543 Q36.4406 652.155 43.5384 652.155 Q50.668 652.155 57.8931 654.543 Q65.1182 656.898 72.5979 661.672 L72.5979 666.765 Q65.3091 662.532 58.1159 660.463 Q50.8908 658.362 43.5384 658.362 Q36.186 658.362 29.0246 660.463 Q21.8632 662.532 14.5426 666.765 Z\" fill=\"#000000\" fill-rule=\"nonzero\" fill-opacity=\"1\" /><polyline clip-path=\"url(#clip842)\" style=\"stroke:#009af9; stroke-linecap:round; stroke-linejoin:round; stroke-width:4; stroke-opacity:1; fill:none\" points=\"279.759,737.37 286.467,708.98 293.176,681.223 299.885,654.098 306.594,627.606 313.302,601.747 320.011,576.52 326.72,551.926 333.429,527.965 340.137,504.636 346.846,481.941 353.555,459.877 360.263,438.447 366.972,417.649 373.681,397.484 380.39,377.952 387.098,359.052 393.807,340.785 400.516,323.151 407.225,306.149 413.933,289.781 420.642,274.044 427.351,258.941 434.059,244.47 440.768,230.632 447.477,217.427 454.186,204.854 460.894,192.914 467.603,181.607 474.312,170.932 481.021,160.89 487.729,151.481 494.438,142.705 501.147,134.561 507.855,127.05 514.564,120.171 521.273,113.926 527.982,108.313 534.69,103.332 541.399,98.9847 548.108,95.2698 554.817,92.1876 561.525,89.7381 568.234,87.9212 574.943,86.7371 581.652,86.1857 588.36,86.2669 595.069,86.9809 601.778,88.3276 608.486,90.3069 615.195,92.919 621.904,96.1637 628.613,100.041 635.321,104.551 642.03,109.694 648.739,115.47 655.448,121.878 662.156,128.919 668.865,136.592 675.574,144.899 682.282,153.838 688.991,163.41 695.7,173.614 702.409,184.451 709.117,195.921 715.826,208.023 722.535,220.759 729.244,234.127 735.952,248.127 742.661,262.76 749.37,278.026 756.078,293.925 762.787,310.456 769.496,327.621 776.205,345.417 782.913,363.847 789.622,382.909 796.331,402.604 803.04,422.931 809.748,443.892 816.457,465.485 823.166,487.71 829.874,510.569 836.583,534.06 843.292,558.184 850.001,582.94 856.709,608.329 863.418,634.351 870.127,661.005 876.836,688.293 883.544,716.213 890.253,744.765 896.962,773.951 903.67,803.769 910.379,834.219 917.088,865.303 923.797,897.019 930.505,929.368 937.214,962.349 943.923,995.963 950.632,1030.21 957.34,1065.09 964.049,1100.6 970.758,1136.75 977.467,1173.52 984.175,1210.94 990.884,1248.98 997.593,1287.65 1004.3,1326.96 1011.01,1366.9 1017.72,1382.32 1024.43,1382.32 1031.14,1382.95 1037.85,1384.22 1044.55,1382.32 1051.26,1381.06 1057.97,1380.43 1064.68,1380.43 1071.39,1381.07 1078.1,1382.34 1084.81,1384.24 1091.51,1382.32 1098.22,1381.04 1104.93,1380.39 1111.64,1380.37 1118.35,1380.98 1125.06,1382.23 1131.77,1384.11 1138.48,1382.32 1145.18,1381.17 1151.89,1380.65 1158.6,1380.77 1165.31,1381.51 1172.02,1382.89 1178.73,1382.32 1185.44,1382.39 1192.15,1383.08 1198.85,1382.32 1205.56,1382.2 1212.27,1382.7 1218.98,1383.84 1225.69,1382.32 1232.4,1381.43 1239.11,1381.18 1245.82,1381.56 1252.52,1382.57 1259.23,1384.21 1265.94,1382.32 1272.65,1381.07 1279.36,1380.45 1286.07,1380.46 1292.78,1381.1 1299.49,1382.38 1306.19,1382.32 1312.9,1382.9 1319.61,1384.1 1326.32,1382.32 1333.03,1381.17 1339.74,1380.66 1346.45,1380.78 1353.16,1381.53 1359.86,1382.91 1366.57,1382.32 1373.28,1382.36 1379.99,1383.04 1386.7,1382.32 1393.41,1382.24 1400.12,1382.79 1406.83,1383.97 1413.53,1382.32 1420.24,1381.31 1426.95,1380.93 1433.66,1381.19 1440.37,1382.07 1447.08,1383.59 1453.79,1382.32 1460.49,1381.68 1467.2,1381.68 1473.91,1382.31 1480.62,1383.57 1487.33,1382.32 1494.04,1381.71 1500.75,1381.73 1507.46,1382.38 1514.16,1383.67 1520.87,1382.32 1527.58,1381.61 1534.29,1381.53 1541,1382.09 1547.71,1383.27 1554.42,1382.32 1561.13,1382 1567.83,1382.32 1574.54,1383.27 1581.25,1382.32 1587.96,1382.01 1594.67,1382.33 1601.38,1383.29 1608.09,1382.32 1614.8,1381.99 1621.5,1382.3 1628.21,1383.23 1634.92,1382.32 1641.63,1382.05 1648.34,1382.41 1655.05,1383.39 1661.76,1382.32 1668.47,1381.88 1675.17,1382.08 1681.88,1382.9 1688.59,1382.32 1695.3,1382.38 1702.01,1383.06 1708.72,1382.32 1715.43,1382.22 1722.14,1382.74 1728.84,1383.9 1735.55,1382.32 1742.26,1381.38 1748.97,1381.07 1755.68,1381.39 1762.39,1382.35 1769.1,1383.93 1775.81,1382.32 1782.51,1381.34 1789.22,1381 1795.93,1381.28 1802.64,1382.2 1809.35,1383.75 1816.06,1382.32 1822.77,1381.53 1829.48,1381.36 1836.18,1381.83 1842.89,1382.93 1849.6,1382.32 1856.31,1382.35 1863.02,1383 1869.73,1382.32 1876.44,1382.28 1883.14,1382.86 1889.85,1384.08 1896.56,1382.32 1903.27,1381.19 1909.98,1380.7 1916.69,1380.83 1923.4,1381.6 1930.11,1383.01 1936.81,1382.32 1943.52,1382.27 1950.23,1382.85 1956.94,1384.06 1963.65,1382.32 1970.36,1381.21 1977.07,1380.74 1983.78,1380.89 1990.48,1381.68 1997.19,1383.1 2003.9,1382.32 2010.61,1382.18 2017.32,1382.66 2024.03,1383.78 2030.74,1382.32 2037.45,1381.49 2044.15,1381.3 2050.86,1381.73 2057.57,1382.8 2064.28,1382.32 2070.99,1382.48 2077.7,1383.26 2084.41,1382.32 2091.12,1382.02 2097.82,1382.34 2104.53,1383.3 2111.24,1382.32 2117.95,1381.98 2124.66,1382.27 2131.37,1383.19 2138.08,1382.32 2144.79,1382.09 2151.49,1382.49 2158.2,1383.52 2164.91,1382.32 2171.62,1381.75 2178.33,1381.82 2185.04,1382.52 2191.75,1383.85 2198.46,1382.32 2205.16,1381.43 2211.87,1381.17 2218.58,1381.55 2225.29,1382.55 2232,1384.19 2238.71,1382.32 2245.42,1381.08 2252.12,1380.48 2258.83,1380.51 2265.54,1381.17 2272.25,1382.47 2278.96,1382.32 2285.67,1382.81 2292.38,1383.93 \"/>\n",
       "<path clip-path=\"url(#clip840)\" d=\"M2015.88 196.789 L2281.64 196.789 L2281.64 93.1086 L2015.88 93.1086  Z\" fill=\"#ffffff\" fill-rule=\"evenodd\" fill-opacity=\"1\"/>\n",
       "<polyline clip-path=\"url(#clip840)\" style=\"stroke:#000000; stroke-linecap:round; stroke-linejoin:round; stroke-width:4; stroke-opacity:1; fill:none\" points=\"2015.88,196.789 2281.64,196.789 2281.64,93.1086 2015.88,93.1086 2015.88,196.789 \"/>\n",
       "<polyline clip-path=\"url(#clip840)\" style=\"stroke:#009af9; stroke-linecap:round; stroke-linejoin:round; stroke-width:4; stroke-opacity:1; fill:none\" points=\"2039.58,144.949 2181.8,144.949 \"/>\n",
       "<path clip-path=\"url(#clip840)\" d=\"M2219.35 164.636 Q2217.55 169.266 2215.83 170.678 Q2214.12 172.09 2211.25 172.09 L2207.85 172.09 L2207.85 168.525 L2210.35 168.525 Q2212.11 168.525 2213.08 167.692 Q2214.05 166.858 2215.23 163.756 L2215.99 161.812 L2205.51 136.303 L2210.02 136.303 L2218.12 156.581 L2226.23 136.303 L2230.74 136.303 L2219.35 164.636 Z\" fill=\"#000000\" fill-rule=\"nonzero\" fill-opacity=\"1\" /><path clip-path=\"url(#clip840)\" d=\"M2238.03 158.293 L2245.67 158.293 L2245.67 131.928 L2237.36 133.595 L2237.36 129.335 L2245.62 127.669 L2250.3 127.669 L2250.3 158.293 L2257.94 158.293 L2257.94 162.229 L2238.03 162.229 L2238.03 158.293 Z\" fill=\"#000000\" fill-rule=\"nonzero\" fill-opacity=\"1\" /></svg>\n"
      ]
     },
     "metadata": {},
     "output_type": "display_data"
    },
    {
     "name": "stderr",
     "output_type": "stream",
     "text": [
      "\u001b[36m\u001b[1m┌ \u001b[22m\u001b[39m\u001b[36m\u001b[1mInfo: \u001b[22m\u001b[39mMeshCat server started. You can open the visualizer by visiting the following URL in your browser:\n",
      "\u001b[36m\u001b[1m└ \u001b[22m\u001b[39mhttp://127.0.0.1:8710\n"
     ]
    },
    {
     "data": {
      "text/html": [
       "    <div style=\"height: 500px; width: 100%; overflow-x: auto; overflow-y: hidden; resize: both\">\n",
       "    <iframe src=\"http://127.0.0.1:8710\" style=\"width: 100%; height: 100%; border: none\"></iframe>\n",
       "    </div>\n"
      ],
      "text/plain": [
       "MeshCat.DisplayedVisualizer(MeshCat.CoreVisualizer(MeshCat.SceneTrees.SceneNode(nothing, nothing, Dict{String, Vector{UInt8}}(), UInt8[0x83, 0xa7, 0x6f, 0x70, 0x74, 0x69, 0x6f, 0x6e, 0x73, 0x82  …  0x5f, 0x61, 0x6e, 0x69, 0x6d, 0x61, 0x74, 0x69, 0x6f, 0x6e], Dict{String, MeshCat.SceneTrees.SceneNode}(\"meshcat\" => MeshCat.SceneTrees.SceneNode(nothing, nothing, Dict{String, Vector{UInt8}}(), nothing, Dict{String, MeshCat.SceneTrees.SceneNode}(\"brick\" => MeshCat.SceneTrees.SceneNode(UInt8[0x83, 0xa6, 0x6f, 0x62, 0x6a, 0x65, 0x63, 0x74, 0x84, 0xaa  …  0x68, 0x63, 0x61, 0x74, 0x2f, 0x62, 0x72, 0x69, 0x63, 0x6b], nothing, Dict{String, Vector{UInt8}}(), nothing, Dict{String, MeshCat.SceneTrees.SceneNode}()))))), Set{Any}(), ip\"127.0.0.1\", 8710))"
      ]
     },
     "execution_count": 67,
     "metadata": {},
     "output_type": "execute_result"
    }
   ],
   "source": [
    "include(joinpath(@__DIR__, \"animate_brick.jl\"))\n",
    "let \n",
    "    \n",
    "    dt = 0.01 \n",
    "    T = 3.0 \n",
    "    \n",
    "    t_vec = 0:dt:T\n",
    "    N = length(t_vec)\n",
    "    \n",
    "    qs = [zeros(2) for i = 1:N]\n",
    "    vs = [zeros(2) for i = 1:N]\n",
    "    \n",
    "    qs[1] = [0, 1.0]\n",
    "    vs[1] = [1, 4.5]\n",
    "    \n",
    "    # TODO: simulate the brick by forming and solving a qp \n",
    "    # at each timestep. Your QP should solve for vs[k+1], and\n",
    "    # you should use this to update qs[k+1]\n",
    "    for k =1:N-1\n",
    "        qp = brick_simulation_qp(qs[k],vs[k])\n",
    "        vs[k+1],_,_=solve_qp(qp; verbose = false, tol = 1e-4)\n",
    "        qs[k+1] = qs[k] + dt*vs[k+1]\n",
    "    end\n",
    "        \n",
    "\n",
    "    \n",
    "    xs = [q[1] for q in qs]\n",
    "    ys = [q[2] for q in qs]\n",
    "    \n",
    "    @show @test abs(maximum(ys)-2)<1e-1\n",
    "    @show @test minimum(ys) > -1e-2\n",
    "    @show @test abs(xs[end] - 3) < 1e-2\n",
    "    \n",
    "    xdot = diff(xs)/dt\n",
    "    @show @test maximum(xdot) < 1.0001\n",
    "    @show @test minimum(xdot) > 0.9999\n",
    "    @show @test ys[110] > 1e-2\n",
    "    @show @test abs(ys[111]) < 1e-2\n",
    "    @show @test abs(ys[112]) < 1e-2\n",
    "    \n",
    "    display(plot(xs, ys, ylabel = \"y (m)\", xlabel = \"x (m)\"))\n",
    "    \n",
    "    animate_brick(qs)\n",
    "    \n",
    "    \n",
    "    \n",
    "end"
   ]
  },
  {
   "cell_type": "markdown",
   "id": "8e1db279",
   "metadata": {},
   "source": [
    "# Part D (5 pts): Solve a QP\n",
    "\n",
    "Use your QP solver to solve the following optimization problem:\n",
    "\n",
    "\n",
    "$$\n",
    "\\begin{align} \n",
    "\\min_{y\\in\\mathbb{R}^2,a\\in\\mathbb{R},b\\in\\mathbb{R}} \\quad & \\frac{1}{2}y^T \\begin{bmatrix} 1 & .3 \\\\ .3 & 1 \\end{bmatrix} y + a^2 + 2b^2  + \\begin{bmatrix} -2 & 3.4 \\end{bmatrix} y + 2a + 4b \\\\ \n",
    "\\text{st} \\quad & a + b = 1 \\\\ \n",
    "& \\begin{bmatrix}-1 & 2.3 \\end{bmatrix} y + a - 2b =3 \\\\\n",
    "& -0.5 \\leq y \\leq 1 \\\\ \n",
    "& -1 \\leq a \\leq 1 \\\\ \n",
    "& -1 \\leq b \\leq 1\n",
    "\\end{align}\n",
    "$$\n",
    "\n",
    "You should be able to put this into our standard QP form that we used above, and solve."
   ]
  },
  {
   "cell_type": "code",
   "execution_count": null,
   "id": "488cfbf0",
   "metadata": {},
   "outputs": [],
   "source": [
    "@testset \"part D\" begin\n",
    "\n",
    "    y = randn(2)\n",
    "    a = randn()\n",
    "    b = randn()\n",
    "    \n",
    "    \n",
    "    @test norm(y - [-0.080823; 0.834424]) < 1e-3 \n",
    "    @test abs(a - 1) < 1e-3 \n",
    "    @test abs(b) < 1e-3 \n",
    "end"
   ]
  },
  {
   "cell_type": "markdown",
   "id": "ba575e34",
   "metadata": {},
   "source": [
    "## Part E (5 pts): One sentence short answer\n",
    "\n",
    "1. For our Augmented Lagrangian solver, if our initial guess for $x$ is feasible (meaning it satisfies the constraints), will it stay feasible through each iteration? \n",
    "\n",
    "**put ONE SENTENCE answer here**\n",
    "\n",
    "2. Does the Augmented Lagrangian function for this problem always have continuous first derivatives?\n",
    "\n",
    "**put ONE SENTENCE answer here** \n",
    "\n",
    "3. Is the QP in part D always convex?\n",
    "\n",
    "**put ONE SENTENCE answer here**"
   ]
  },
  {
   "cell_type": "code",
   "execution_count": null,
   "id": "e4c7b5a6",
   "metadata": {},
   "outputs": [],
   "source": []
  }
 ],
 "metadata": {
  "kernelspec": {
   "display_name": "Julia 1.6.7",
   "language": "julia",
   "name": "julia-1.6"
  },
  "language_info": {
   "file_extension": ".jl",
   "mimetype": "application/julia",
   "name": "julia",
   "version": "1.6.7"
  }
 },
 "nbformat": 4,
 "nbformat_minor": 5
}
